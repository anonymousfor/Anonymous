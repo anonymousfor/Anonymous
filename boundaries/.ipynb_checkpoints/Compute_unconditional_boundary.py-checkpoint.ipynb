{
 "cells": [
  {
   "cell_type": "code",
   "execution_count": 12,
   "metadata": {},
   "outputs": [],
   "source": [
    "import numpy as np"
   ]
  },
  {
   "cell_type": "code",
   "execution_count": 13,
   "metadata": {},
   "outputs": [],
   "source": [
    "age = np.load('pggan_celebahq_age_boundary.npy')\n",
    "eyeglasses = np.load('pggan_celebahq_eyeglasses_boundary.npy')\n",
    "smile = np.load('pggan_celebahq_smile_boundary.npy')\n",
    "gender = np.load('pggan_celebahq_gender_boundary.npy')\n",
    "#narrow_eyes = np.load('pggan_celebahq_narrow_eyes.npy')\n",
    "#blonde_hair = np.load('pggan_celebahq_blonde_hair.npy')\n",
    "#pale_skin = np.load('pggan_celebahq_pale_skin.npy')"
   ]
  },
  {
   "cell_type": "code",
   "execution_count": 14,
   "metadata": {},
   "outputs": [],
   "source": [
    "target_norm = [age, gender, eyeglasses, smile]\n",
    "norms = [age, gender, eyeglasses, smile]\n",
    "out = []"
   ]
  },
  {
   "cell_type": "code",
   "execution_count": 15,
   "metadata": {},
   "outputs": [
    {
     "name": "stdout",
     "output_type": "stream",
     "text": [
      "do not condition on itself.\n",
      "0.9999999999999999 0.9999999999999999\n",
      "0.9999999988560061 (1, 1) (1, 512)\n",
      "1.0 0.9999999988560061\n",
      "0.9999999989898514 (1, 1) (1, 512)\n",
      "1.0 0.9999999989898514\n",
      "0.9999999989936494 (1, 1) (1, 512)\n",
      "0.9999999999999999 0.9999999999999999\n",
      "0.9999999988560064 (1, 1) (1, 512)\n",
      "do not condition on itself.\n",
      "1.0 0.9999999988560064\n",
      "0.9999999989147178 (1, 1) (1, 512)\n",
      "1.0 0.9999999989147178\n",
      "0.9999999989919157 (1, 1) (1, 512)\n",
      "0.9999999999999999 1.0\n",
      "0.9999999989200243 (1, 1) (1, 512)\n",
      "0.9999999999999999 0.9999999989200243\n",
      "0.9999999989250663 (1, 1) (1, 512)\n",
      "do not condition on itself.\n",
      "1.0 0.9999999989250663\n",
      "0.9999999989993016 (1, 1) (1, 512)\n",
      "0.9999999999999999 1.0\n",
      "0.9999999989990296 (1, 1) (1, 512)\n",
      "0.9999999999999999 0.9999999989990296\n",
      "0.9999999989929195 (1, 1) (1, 512)\n",
      "1.0 0.9999999989929195\n",
      "0.9999999989999947 (1, 1) (1, 512)\n",
      "do not condition on itself.\n"
     ]
    }
   ],
   "source": [
    "for i in range(len(target_norm)):\n",
    "    tar_dir = target_norm[i]\n",
    "    for j in range(4):\n",
    "        if i==j:\n",
    "            print('do not condition on itself.')\n",
    "            continue\n",
    "        dep_norm = norms[j]\n",
    "        print (np.linalg.norm(dep_norm), np.linalg.norm(tar_dir))\n",
    "        tar_dir = tar_dir - np.dot(tar_dir, dep_norm.T)*dep_norm\n",
    "        tar_dir = tar_dir / (np.linalg.norm(tar_dir) + 1e-9)\n",
    "        print(np.linalg.norm(tar_dir), np.dot(tar_dir, dep_norm.T).shape, tar_dir.shape)\n",
    "    out.append(tar_dir)"
   ]
  },
  {
   "cell_type": "code",
   "execution_count": 16,
   "metadata": {},
   "outputs": [
    {
     "name": "stdout",
     "output_type": "stream",
     "text": [
      "4\n"
     ]
    }
   ],
   "source": [
    "print(len(out))"
   ]
  },
  {
   "cell_type": "code",
   "execution_count": 17,
   "metadata": {},
   "outputs": [
    {
     "data": {
      "text/plain": [
       "\"\\nnp.save('stylegan_celebahq_narrow_eyes_c_all_boundary.npy', out[0])\\nnp.save('stylegan_celebahq_blonde_hair_c_all_boundary.npy', out[1])\\nnp.save('stylegan_celebahq_pale_skin_c_all_boundary.npy', out[2])\\n\""
      ]
     },
     "execution_count": 17,
     "metadata": {},
     "output_type": "execute_result"
    }
   ],
   "source": [
    "'''\n",
    "np.save('stylegan_celebahq_narrow_eyes_c_all_boundary.npy', out[0])\n",
    "np.save('stylegan_celebahq_blonde_hair_c_all_boundary.npy', out[1])\n",
    "np.save('stylegan_celebahq_pale_skin_c_all_boundary.npy', out[2])\n",
    "'''"
   ]
  },
  {
   "cell_type": "code",
   "execution_count": 18,
   "metadata": {},
   "outputs": [],
   "source": [
    "#'''\n",
    "np.save('pggan_celebahq_age_c_all_boundary.npy', out[0])\n",
    "np.save('pggan_celebahq_gender_c_all_boundary.npy', out[1])\n",
    "np.save('pggan_celebahq_eyeglasses_c_all_boundary.npy', out[2])\n",
    "np.save('pggan_celebahq_smile_c_all_boundary.npy', out[3])\n",
    "#'''"
   ]
  },
  {
   "cell_type": "code",
   "execution_count": 7,
   "metadata": {},
   "outputs": [],
   "source": [
    "age_c_gender_glasses = np.load('pggan_celebahq_age_c_gender_eyeglasses_boundary.npy')"
   ]
  },
  {
   "cell_type": "code",
   "execution_count": 8,
   "metadata": {},
   "outputs": [
    {
     "name": "stdout",
     "output_type": "stream",
     "text": [
      "0.10464624968150957\n",
      "1.0\n"
     ]
    }
   ],
   "source": [
    "diff = age_c_gender_glasses - out[0]\n",
    "print(np.sum(diff))\n",
    "print(np.linalg.norm(age_c_gender_glasses))"
   ]
  },
  {
   "cell_type": "code",
   "execution_count": null,
   "metadata": {},
   "outputs": [],
   "source": []
  }
 ],
 "metadata": {
  "kernelspec": {
   "display_name": "Python 3",
   "language": "python",
   "name": "python3"
  },
  "language_info": {
   "codemirror_mode": {
    "name": "ipython",
    "version": 3
   },
   "file_extension": ".py",
   "mimetype": "text/x-python",
   "name": "python",
   "nbconvert_exporter": "python",
   "pygments_lexer": "ipython3",
   "version": "3.6.10"
  }
 },
 "nbformat": 4,
 "nbformat_minor": 4
}
